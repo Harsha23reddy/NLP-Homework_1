{
  "nbformat": 4,
  "nbformat_minor": 0,
  "metadata": {
    "colab": {
      "provenance": []
    },
    "kernelspec": {
      "name": "python3",
      "display_name": "Python 3"
    },
    "language_info": {
      "name": "python"
    }
  },
  "cells": [
    {
      "cell_type": "code",
      "execution_count": 1,
      "metadata": {
        "colab": {
          "base_uri": "https://localhost:8080/"
        },
        "id": "zEsAJWsn1QFJ",
        "outputId": "69aea572-df7d-4bca-a6d9-29cd845f408d"
      },
      "outputs": [
        {
          "output_type": "stream",
          "name": "stdout",
          "text": [
            "\n",
            "--- ZIP Codes ---\n",
            "'12345' -> ['12345']\n",
            "'12345-6789' -> ['12345-6789']\n",
            "'12345 6789' -> ['12345 6789']\n",
            "'abc12345xyz' -> []\n",
            "\n",
            "--- Non-capitalized Words ---\n",
            "\"don't\" -> [\"don't\"]\n",
            "'state-of-the-art' -> ['state-of-the-art']\n",
            "'Apple' -> []\n",
            "'banana' -> ['banana']\n",
            "\"O'Reilly\" -> []\n",
            "\n",
            "--- Numbers ---\n",
            "'42' -> ['42']\n",
            "'-3.14' -> ['-3.14']\n",
            "'+1,234' -> ['+1,234']\n",
            "'6.022e23' -> ['6.022e23']\n",
            "'not-a-number' -> []\n",
            "\n",
            "--- Email Variants ---\n",
            "'email' -> ['email']\n",
            "'E-Mail' -> ['E-Mail']\n",
            "'e mail' -> ['e mail']\n",
            "'contact via e–mail' -> ['e–mail']\n",
            "'mail' -> []\n",
            "\n",
            "--- Go Interjections ---\n",
            "'go' -> ['']\n",
            "'goo' -> ['']\n",
            "'gooo!' -> ['']\n",
            "'Gooo?' -> []\n",
            "\"let's gooo,\" -> ['']\n",
            "'gopher' -> []\n",
            "\n",
            "--- Lines Ending with ? ---\n",
            "'Are you coming?' -> ['?']\n",
            "'Really?)' -> ['?)']\n",
            "'You sure?\"' -> ['?\"']\n",
            "'Is this correct?   \"]' -> ['?   \"]']\n",
            "'This is not a question.' -> []\n"
          ]
        }
      ],
      "source": [
        "import re\n",
        "\n",
        "# 1. U.S. ZIP codes\n",
        "zip_pattern = re.compile(r\"\\b\\d{5}(?:[- ]\\d{4})?\\b\")\n",
        "zip_tests = [\"12345\", \"12345-6789\", \"12345 6789\", \"abc12345xyz\"]\n",
        "\n",
        "# 2. Words not starting with a capital letter\n",
        "non_cap_pattern = re.compile(r\"\\b(?![A-Z])[A-Za-z]+(?:['-][A-Za-z]+)*\\b\")\n",
        "non_cap_tests = [\"don't\", \"state-of-the-art\", \"Apple\", \"banana\", \"O'Reilly\"]\n",
        "\n",
        "# 3. Numbers (sign, commas, decimals, scientific notation)\n",
        "num_pattern = re.compile(r\"[+-]?(?:\\d{1,3}(?:,\\d{3})*|\\d+)(?:\\.\\d+)?(?:[eE][+-]?\\d+)?\")\n",
        "num_tests = [\"42\", \"-3.14\", \"+1,234\", \"6.022e23\", \"not-a-number\"]\n",
        "\n",
        "# 4. Variants of \"email\" (case-insensitive, space/hyphen/en dash)\n",
        "email_pattern = re.compile(r\"(?i)\\be[-\\s–]?mail\\b\")\n",
        "email_tests = [\"email\", \"E-Mail\", \"e mail\", \"contact via e–mail\", \"mail\"]\n",
        "\n",
        "# 5. \"go\", \"goo\", \"gooo...\" + optional punctuation\n",
        "go_pattern = re.compile(r\"\\bgo+([!.,?])?\\b\")\n",
        "go_tests = [\"go\", \"goo\", \"gooo!\", \"Gooo?\", \"let's gooo,\", \"gopher\"]\n",
        "\n",
        "# 6. Lines ending with ? + closing quotes/brackets/spaces\n",
        "end_q_pattern = re.compile(r\"\\?[\\s\\\"'\\)\\]\\}]*$\")\n",
        "end_q_tests = [\n",
        "    'Are you coming?',\n",
        "    'Really?)',\n",
        "    'You sure?\"',\n",
        "    'Is this correct?   \"]',\n",
        "    'This is not a question.'\n",
        "]\n",
        "\n",
        "# Helper to test patterns\n",
        "def test_regex(pattern, tests, label):\n",
        "    print(f\"\\n--- {label} ---\")\n",
        "    for t in tests:\n",
        "        matches = pattern.findall(t)\n",
        "        print(f\"{t!r} -> {matches}\")\n",
        "\n",
        "# Run tests\n",
        "test_regex(zip_pattern, zip_tests, \"ZIP Codes\")\n",
        "test_regex(non_cap_pattern, non_cap_tests, \"Non-capitalized Words\")\n",
        "test_regex(num_pattern, num_tests, \"Numbers\")\n",
        "test_regex(email_pattern, email_tests, \"Email Variants\")\n",
        "test_regex(go_pattern, go_tests, \"Go Interjections\")\n",
        "test_regex(end_q_pattern, end_q_tests, \"Lines Ending with ?\")\n"
      ]
    }
  ]
}